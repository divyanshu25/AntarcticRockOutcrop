{
 "cells": [
  {
   "cell_type": "code",
   "execution_count": null,
   "metadata": {},
   "outputs": [],
   "source": [
    "import os\n",
    "from utils.data_directory_manager import DataDirectoryManager\n",
    "import rasterio as rio\n",
    "import matplotlib.pyplot as plt\n",
    "\n",
    "project_dir = \"/home/dsa/DSA/test_project\"\n",
    "file_name = \"\"\n",
    "file = os.path.join(project_dir, )\n",
    "\n",
    "with rio.open(file_path, dtype='float32') as data:\n",
    "    band = data.read().transpose(1, 2, 0).astype(float)\n",
    "    meta = data.meta.copy()"
   ]
  }
 ],
 "metadata": {
  "kernelspec": {
   "display_name": "Python 3",
   "language": "python",
   "name": "python3"
  },
  "language_info": {
   "codemirror_mode": {
    "name": "ipython",
    "version": 3
   },
   "file_extension": ".py",
   "mimetype": "text/x-python",
   "name": "python",
   "nbconvert_exporter": "python",
   "pygments_lexer": "ipython3",
   "version": "3.6.8"
  }
 },
 "nbformat": 4,
 "nbformat_minor": 2
}
