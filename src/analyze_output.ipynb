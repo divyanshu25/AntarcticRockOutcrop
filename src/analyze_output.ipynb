{
 "cells": [
  {
   "cell_type": "markdown",
   "metadata": {},
   "source": [
    "# Python Model Analysis\n",
    "#### This notebook contains the output comparison procedures I used to tune the python3 version of the Burton-Johnson et. al. script. \n",
    "\n",
    "Directly porting the code from arcpy functions to a combination of rasterio and numpy functions with the exact thresholds used in the arcpy script does not produce the exact output as the published outcrop dataset [available here](https://www.the-cryosphere.net/10/1665/2016/).\n",
    "\n",
    "I have several hypotheses for the cause.\n",
    "    1. Rounding errors in the computations to generate the mask layers (particularly in the NDSI, NDWI, and B2/B10 masks)\n",
    "    \n",
    "    - This would lead to small omission and commission errors in the rock pixels\n",
    "        \n",
    "    2. Incorrect correction math in the image_correction.py script\n",
    "    3. Rounding errors in the image_correction.py script\n",
    "    4. Lost precsion while scaling pixel values to ints to save storage space in .tif files\n",
    "    \n",
    "### Test cases\n",
    "\n",
    "To test these hypotheses I will generate several model outputs and create a diff raster using the OutputAnalysis class and compare errors from the various layers.\n",
    "\n",
    "Ideal case is a perfect reproduction of the model output (obviously).\n",
    "\n",
    "#### Case 1\n",
    "Raw, uncoverted raster values as downloaded and extracted by the landsat-util/landsat/downloader.py script. These raster values will have to be scaled by .0001 for the reflectance bands and .01 for the temperature brightness bands. I don't think this will provide the best results, but there is the possibility that the images are already corrected before they are downoladed\n",
    "\n",
    "#### Case 2\n",
    "Correct the data using the utils/image_correction.py script and store the result as a raster with float values.\n",
    "\n",
    "#### Case 3\n",
    "Correct the data and store the resulting pixels as scaled integers.\n",
    "Upon loading the pixels, scale them back to floats so that the thresholds do not change.\n",
    "    \n",
    "    "
   ]
  },
  {
   "cell_type": "markdown",
   "metadata": {},
   "source": [
    "### Import all modules"
   ]
  },
  {
   "cell_type": "code",
   "execution_count": 1,
   "metadata": {},
   "outputs": [],
   "source": [
    "import os\n",
    "\n",
    "from utils.data_directory_manager import DataDirectoryManager\n",
    "from utils.img_diff import OutputAnalysis\n",
    "from utils.rasterize import rasterize_label, save_raster\n",
    "from utils.raster_tools import get_window\n",
    "\n",
    "import matplotlib.pyplot as plt\n",
    "import rasterio as rio\n",
    "import numpy as np"
   ]
  },
  {
   "cell_type": "markdown",
   "metadata": {},
   "source": [
    "### Configure directories and file paths"
   ]
  },
  {
   "cell_type": "code",
   "execution_count": 2,
   "metadata": {},
   "outputs": [],
   "source": [
    "base_dir = \"/home/dsa/DSA/images_manual\"\n",
    "dm = DataDirectoryManager(base_dir)\n",
    "\n",
    "# The specifc scene upon which this testing will be done.\n",
    "test_scene_id = \"LC82201072015017LGN00\"\n",
    "\n",
    "# directory to hold the experimentally generated outputs\n",
    "experiment_dir = os.path.join(dm.project_dir, \"experimental\")\n",
    "if not os.path.exists(experiment_dir):\n",
    "    os.mkdir(experiment_dir)"
   ]
  },
  {
   "cell_type": "markdown",
   "metadata": {},
   "source": [
    "### Configure Groundtruth\n",
    "\n",
    "We will be using a rasterized version of the polygon layer as our ground truth.\n",
    "\n",
    "we need a layer that has pixel values over the full extent of the\n",
    "test area. We're using one band from the full color image of our\n",
    "segment for convenience. It would be better to just generate\n",
    "a raster of 1's to ensure complete coverage to be burned by the\n",
    "shapefile"
   ]
  },
  {
   "cell_type": "code",
   "execution_count": 3,
   "metadata": {},
   "outputs": [],
   "source": [
    "# The shapefile downloaded from the paper supplement.\n",
    "rock_shape = \"/home/dsa/DSA/vectors/Landsat_8_Derived_Outcrop_Dataset_2016.shp\"\n",
    "\n",
    "rasterize_base = os.path.join(dm.corrected_image_dir, test_scene_id, test_scene_id + \"full_color_seg.tif\")\n",
    "expected_path = os.path.join(dm.corrected_image_dir, \"rasterized_rock_shape.tif\")\n",
    "assert os.path.exists(rasterize_base)\n",
    "\n",
    "if os.path.exists(expected_path):\n",
    "    with rio.open(expected_path) as expected_tif:\n",
    "        meta = expected_tif.meta.copy()\n",
    "        expected = expected_tif.read(1)\n",
    "else:\n",
    "    expected, meta = rasterize_label(rasterize_base, rock_shape)\n",
    "    save_raster(expected[0], expected[1], expected_path)"
   ]
  },
  {
   "cell_type": "markdown",
   "metadata": {},
   "source": [
    "### Configure test window"
   ]
  },
  {
   "cell_type": "code",
   "execution_count": 4,
   "metadata": {},
   "outputs": [],
   "source": [
    "size = 512\n",
    "col_offset = 12\n",
    "row_offset = 10"
   ]
  },
  {
   "cell_type": "markdown",
   "metadata": {},
   "source": [
    "### Case 1\n",
    "- Load uncorrected raster from raw directory\n",
    "- Scale reflectance bands (2, 3, 4, 5, 6) by .0001\n",
    "- Scale brightness temperature band (10) by .01\n",
    "- Run model with the following thresholds:\n",
    "    - Mask1 layer1:\n",
    "    - Mask1 layer2:\n",
    "    - Mask1 layer3:\n",
    "    - Mask1 layer5:\n",
    "    - Mask2 layer1:\n",
    "    - Mask2 layer2:\n",
    "- Compare output\n",
    "    \n",
    "    "
   ]
  },
  {
   "cell_type": "code",
   "execution_count": 49,
   "metadata": {},
   "outputs": [
    {
     "name": "stdout",
     "output_type": "stream",
     "text": [
      "1183.9 2363.2\n"
     ]
    },
    {
     "data": {
      "image/png": "[encoded data removed]",
      "text/plain": [
       "<Figure size 432x288 with 2 Axes>"
      ]
     },
     "metadata": {
      "needs_background": "light"
     },
     "output_type": "display_data"
    }
   ],
   "source": [
    "case1_path = os.path.join(experiment_dir, test_scene_id + \"_case1.tif\")\n",
    "case1_diff_path = os.path.join(experiment_dir, test_scene_id + \"case1_diff.tiff\")\n",
    "# If model output is already generated, load output from file\n",
    "# otherwise, generate the output\n",
    "if os.path.exists(case1_path):\n",
    "    with rio.open(case1_path) as case1_file:\n",
    "        case1 = case1_file.read(1)\n",
    "    plt.imshow(case1)\n",
    "else:\n",
    "    pass\n",
    "    # load uncorrected raster from raw directory\n",
    "raw_path_base = os.path.join(dm.raw_image_dir, test_scene_id, test_scene_id + \"_B\")\n",
    "\n",
    "refl_scale = .0001\n",
    "brightness_scale = .1\n",
    "\n",
    "mask1_step1_threshold = 400\n",
    "mask1_step2_threshold = 0.075\n",
    "mask1_step3_threshold = 0.045\n",
    "mask1_step5_threshold = 2550\n",
    "mask2_step1_threshold = 2500\n",
    "mask2_step2_threshold = 0.45\n",
    "\n",
    "b2, meta = get_window(raw_path_base + \"2.TIF\", col_off=col_offset, row_off=row_offset)\n",
    "b3 = get_window(raw_path_base + \"3.TIF\", col_off=col_offset, row_off=row_offset)[0]\n",
    "b4 = get_window(raw_path_base + \"4.TIF\", col_off=col_offset, row_off=row_offset)[0]\n",
    "b5 = get_window(raw_path_base + \"5.TIF\", col_off=col_offset, row_off=row_offset)[0]\n",
    "b6 = get_window(raw_path_base + \"6.TIF\", col_off=col_offset, row_off=row_offset)[0]\n",
    "b10 = get_window(raw_path_base + \"10.TIF\", col_off=col_offset, row_off=row_offset)[0]\n",
    "# scale values\n",
    "b2 = b2 * refl_scale\n",
    "b3 = b3 * refl_scale\n",
    "b4 = b4 * refl_scale\n",
    "b5 = b5 * refl_scale\n",
    "b6 = b6 * refl_scale\n",
    "b10 = b10 * brightness_scale\n",
    "\n",
    "ndsi = (b3 - b6) / (b3 + b6)\n",
    "\n",
    "ndwi = (b3 - b5) / (b3 + b5)\n",
    "\n",
    "mask1_step1 = (b10 / b2 > mask1_step1_threshold).astype(int)\n",
    "mask1_step2 = (ndsi < mask1_step2_threshold).astype(int)\n",
    "mask1_step3 = (ndwi < mask1_step3_threshold).astype(int)\n",
    "mask1_step5 = (b10 > mask1_step5_threshold).astype(int)\n",
    "\n",
    "mask2_step1 = (b2 < mask2_step1_threshold).astype(int)\n",
    "mask2_step2 = (ndwi < mask2_step2_threshold).astype(int)\n",
    "\n",
    "mask1_sum = mask1_step1 + mask1_step2 + mask1_step3 + mask1_step5\n",
    "mask1 = (mask1_sum == 4).astype(int)\n",
    "\n",
    "mask2_sum = mask2_step1 + mask2_step2\n",
    "mask2 = (mask2_sum == 2).astype(int)\n",
    "\n",
    "final_sum = mask1 + mask2\n",
    "\n",
    "case1 = (final_sum > 0).astype(int)\n",
    "\n",
    "plt.imshow(mask1_step5.squeeze())\n",
    "plt.colorbar()\n",
    "print(np.amin(b10), np.amax(b10))\n",
    "\n",
    "write_case1 = case1.transpose(2, 0, 1)\n",
    "meta['dtype'] = rio.uint16\n",
    "meta['count'] = 1\n",
    "with rio.open(case1_path, 'w', **meta) as dst:\n",
    "    dst.write(write_case1.astype(rio.uint16))"
   ]
  },
  {
   "cell_type": "code",
   "execution_count": 14,
   "metadata": {},
   "outputs": [],
   "source": [
    "differ = OutputAnalysis(expected, case1)"
   ]
  },
  {
   "cell_type": "code",
   "execution_count": 15,
   "metadata": {},
   "outputs": [
    {
     "ename": "IndexError",
     "evalue": "list index out of range",
     "output_type": "error",
     "traceback": [
      "\u001b[0;31m---------------------------------------------------------------------------\u001b[0m",
      "\u001b[0;31mIndexError\u001b[0m                                Traceback (most recent call last)",
      "\u001b[0;32m<ipython-input-15-f325488ee6fb>\u001b[0m in \u001b[0;36m<module>\u001b[0;34m\u001b[0m\n\u001b[0;32m----> 1\u001b[0;31m \u001b[0mprint\u001b[0m\u001b[0;34m(\u001b[0m\u001b[0mdiffer\u001b[0m\u001b[0;34m)\u001b[0m\u001b[0;34m\u001b[0m\u001b[0;34m\u001b[0m\u001b[0m\n\u001b[0m",
      "\u001b[0;32m~/Documents/project/AntarcticRockOutcrop/src/utils/img_diff.py\u001b[0m in \u001b[0;36m__str__\u001b[0;34m(self)\u001b[0m\n\u001b[1;32m     35\u001b[0m \u001b[0;34m\u001b[0m\u001b[0m\n\u001b[1;32m     36\u001b[0m     \u001b[0;32mdef\u001b[0m \u001b[0m__str__\u001b[0m\u001b[0;34m(\u001b[0m\u001b[0mself\u001b[0m\u001b[0;34m)\u001b[0m\u001b[0;34m:\u001b[0m\u001b[0;34m\u001b[0m\u001b[0;34m\u001b[0m\u001b[0m\n\u001b[0;32m---> 37\u001b[0;31m         \u001b[0mtotal_pixels\u001b[0m \u001b[0;34m=\u001b[0m \u001b[0mself\u001b[0m\u001b[0;34m.\u001b[0m\u001b[0mdiff_hist\u001b[0m\u001b[0;34m[\u001b[0m\u001b[0;36m0\u001b[0m\u001b[0;34m]\u001b[0m \u001b[0;34m+\u001b[0m \u001b[0mself\u001b[0m\u001b[0;34m.\u001b[0m\u001b[0mdiff_hist\u001b[0m\u001b[0;34m[\u001b[0m\u001b[0;36m1\u001b[0m\u001b[0;34m]\u001b[0m \u001b[0;34m+\u001b[0m \u001b[0mself\u001b[0m\u001b[0;34m.\u001b[0m\u001b[0mdiff_hist\u001b[0m\u001b[0;34m[\u001b[0m\u001b[0;36m2\u001b[0m\u001b[0;34m]\u001b[0m \u001b[0;34m+\u001b[0m \u001b[0mself\u001b[0m\u001b[0;34m.\u001b[0m\u001b[0mdiff_hist\u001b[0m\u001b[0;34m[\u001b[0m\u001b[0;36m3\u001b[0m\u001b[0;34m]\u001b[0m\u001b[0;34m\u001b[0m\u001b[0;34m\u001b[0m\u001b[0m\n\u001b[0m\u001b[1;32m     38\u001b[0m         \u001b[0magreement\u001b[0m \u001b[0;34m=\u001b[0m \u001b[0mself\u001b[0m\u001b[0;34m.\u001b[0m\u001b[0mdiff_hist\u001b[0m\u001b[0;34m[\u001b[0m\u001b[0;36m0\u001b[0m\u001b[0;34m]\u001b[0m \u001b[0;34m+\u001b[0m \u001b[0mself\u001b[0m\u001b[0;34m.\u001b[0m\u001b[0mdiff_hist\u001b[0m\u001b[0;34m[\u001b[0m\u001b[0;36m3\u001b[0m\u001b[0;34m]\u001b[0m\u001b[0;34m\u001b[0m\u001b[0;34m\u001b[0m\u001b[0m\n\u001b[1;32m     39\u001b[0m         \u001b[0mdisagreement\u001b[0m \u001b[0;34m=\u001b[0m \u001b[0mself\u001b[0m\u001b[0;34m.\u001b[0m\u001b[0mdiff_hist\u001b[0m\u001b[0;34m[\u001b[0m\u001b[0;36m1\u001b[0m\u001b[0;34m]\u001b[0m \u001b[0;34m+\u001b[0m \u001b[0mself\u001b[0m\u001b[0;34m.\u001b[0m\u001b[0mdiff_hist\u001b[0m\u001b[0;34m[\u001b[0m\u001b[0;36m2\u001b[0m\u001b[0;34m]\u001b[0m\u001b[0;34m\u001b[0m\u001b[0;34m\u001b[0m\u001b[0m\n",
      "\u001b[0;31mIndexError\u001b[0m: list index out of range"
     ]
    }
   ],
   "source": [
    "print(differ)"
   ]
  },
  {
   "cell_type": "code",
   "execution_count": null,
   "metadata": {},
   "outputs": [],
   "source": []
  }
 ],
 "metadata": {
  "kernelspec": {
   "display_name": "Python 3",
   "language": "python",
   "name": "python3"
  },
  "language_info": {
   "codemirror_mode": {
    "name": "ipython",
    "version": 3
   },
   "file_extension": ".py",
   "mimetype": "text/x-python",
   "name": "python",
   "nbconvert_exporter": "python",
   "pygments_lexer": "ipython3",
   "version": "3.6.8"
  }
 },
 "nbformat": 4,
 "nbformat_minor": 2
}
