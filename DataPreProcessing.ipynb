{
 "cells": [
  {
   "cell_type": "code",
   "execution_count": 16,
   "metadata": {},
   "outputs": [],
   "source": []
  },
  {
   "cell_type": "code",
   "execution_count": 2,
   "metadata": {},
   "outputs": [],
   "source": [
    "# !pip install requests\n",
    "# !pip install usgs\n",
    "# !pip install geocoder\n",
    "# !sudo apt install libcurl4-openssl-dev libssl-dev\n",
    "# !pip install homura\n",
    "# !pip install termcolor\n",
    "# !pip install -r requirements.txt"
   ]
  },
  {
   "cell_type": "code",
   "execution_count": null,
   "metadata": {},
   "outputs": [
    {
     "name": "stdout",
     "output_type": "stream",
     "text": [
      "Thread: Thread-1 Untarring: LC82201072015017LGN00\n",
      "/home/divyanshu_g25/AntarcticRockOutcrop/data/downloads/LC82201072015017LGN00.tar.bz\n",
      "Thread: Thread-2 Untarring: LC82131092013314LGN00\n",
      "/home/divyanshu_g25/AntarcticRockOutcrop/data/downloads/LC82131092013314LGN00.tar.bz\n",
      "Thread: Thread-3 Untarring: LC82151072014011LGN00\n",
      "/home/divyanshu_g25/AntarcticRockOutcrop/data/downloads/LC82151072014011LGN00.tar.bz\n",
      "Thread: Thread-4 Untarring: LC82171052013342LGN00\n",
      "/home/divyanshu_g25/AntarcticRockOutcrop/data/downloads/LC82171052013342LGN00.tar.bz\n",
      "Thread: Thread-1 Untarring: LC82071142014003LGN00\n",
      "/home/divyanshu_g25/AntarcticRockOutcrop/data/downloads/LC82071142014003LGN00.tar.bz\n",
      "Thread: Thread-3 Untarring: LC82151112014043LGN00\n",
      "/home/divyanshu_g25/AntarcticRockOutcrop/data/downloads/LC82151112014043LGN00.tar.bz\n",
      "Thread: Thread-4 Untarring: LC82171102014329LGN00\n",
      "/home/divyanshu_g25/AntarcticRockOutcrop/data/downloads/LC82171102014329LGN00.tar.bz\n",
      "Thread: Thread-2 Untarring: LC82131102013314LGN00\n",
      "/home/divyanshu_g25/AntarcticRockOutcrop/data/downloads/LC82131102013314LGN00.tar.bz\n",
      "Thread: Thread-1 Untarring: LC82081122013343LGN00\n",
      "/home/divyanshu_g25/AntarcticRockOutcrop/data/downloads/LC82081122013343LGN00.tar.bz\n",
      "Thread: Thread-3 Untarring: LC82151142014011LGN00\n",
      "/home/divyanshu_g25/AntarcticRockOutcrop/data/downloads/LC82151142014011LGN00.tar.bz\n",
      "Thread: Thread-2 Untarring: LC82131132013362LGN00\n",
      "/home/divyanshu_g25/AntarcticRockOutcrop/data/downloads/LC82131132013362LGN00.tar.bz\n",
      "Thread: Thread-4 Untarring: LC82171132013358LGN00\n",
      "/home/divyanshu_g25/AntarcticRockOutcrop/data/downloads/LC82171132013358LGN00.tar.bz\n",
      "Thread: Thread-3 Untarring: LC82161062014338LGN00\n",
      "/home/divyanshu_g25/AntarcticRockOutcrop/data/downloads/LC82161062014338LGN00.tar.bz\n",
      "Thread: Thread-1 Untarring: LC82081132013343LGN00\n",
      "/home/divyanshu_g25/AntarcticRockOutcrop/data/downloads/LC82081132013343LGN00.tar.bz\n",
      "Thread: Thread-2 Untarring: LC82141042015087LGN00\n",
      "/home/divyanshu_g25/AntarcticRockOutcrop/data/downloads/LC82141042015087LGN00.tar.bz\n",
      "Thread: Thread-4 Untarring: LC82181052013333LGN00\n",
      "/home/divyanshu_g25/AntarcticRockOutcrop/data/downloads/LC82181052013333LGN00.tar.bz\n",
      "Thread: Thread-2 Untarring: LC82141102014052LGN00\n",
      "/home/divyanshu_g25/AntarcticRockOutcrop/data/downloads/LC82141102014052LGN00.tar.bz\n",
      "Thread: Thread-3 Untarring: LC82161072014306LGN00\n",
      "/home/divyanshu_g25/AntarcticRockOutcrop/data/downloads/LC82161072014306LGN00.tar.bz\n",
      "Thread: Thread-1 Untarring: LC82081142013343LGN00\n",
      "/home/divyanshu_g25/AntarcticRockOutcrop/data/downloads/LC82081142013343LGN00.tar.bz\n",
      "Thread: Thread-4 Untarring: LC82181052015003LGN00\n",
      "/home/divyanshu_g25/AntarcticRockOutcrop/data/downloads/LC82181052015003LGN00.tar.bz\n",
      "Thread: Thread-2 Untarring: LC82141112014052LGN00\n",
      "/home/divyanshu_g25/AntarcticRockOutcrop/data/downloads/LC82141112014052LGN00.tar.bz\n",
      "Thread: Thread-3 Untarring: LC82161072014338LGN00\n",
      "/home/divyanshu_g25/AntarcticRockOutcrop/data/downloads/LC82161072014338LGN00.tar.bz\n",
      "Thread: Thread-1 Untarring: LC82121112013339LGN00\n",
      "/home/divyanshu_g25/AntarcticRockOutcrop/data/downloads/LC82121112013339LGN00.tar.bz\n",
      "Exception in thread Thread-4:\n",
      "Traceback (most recent call last):\n",
      "  File \"/usr/lib/python3.6/threading.py\", line 916, in _bootstrap_inner\n",
      "    self.run()\n",
      "  File \"/usr/lib/python3.6/threading.py\", line 864, in run\n",
      "    self._target(*self._args, **self._kwargs)\n",
      "  File \"src/init.py\", line 40, in untar_helper\n",
      "    '''\n",
      "  File \"/home/divyanshu_g25/AntarcticRockOutcrop/src/utils/data_directory_manager.py\", line 137, in untar_scenes\n",
      "    tar.extractall(raw_scene_dir)\n",
      "  File \"/home/divyanshu_g25/venv/lib/python3.6/tarfile.py\", line 2010, in extractall\n",
      "    numeric_owner=numeric_owner)\n",
      "  File \"/home/divyanshu_g25/venv/lib/python3.6/tarfile.py\", line 2052, in extract\n",
      "    numeric_owner=numeric_owner)\n",
      "  File \"/home/divyanshu_g25/venv/lib/python3.6/tarfile.py\", line 2122, in _extract_member\n",
      "    self.makefile(tarinfo, targetpath)\n",
      "  File \"/home/divyanshu_g25/venv/lib/python3.6/tarfile.py\", line 2171, in makefile\n",
      "    copyfileobj(source, target, tarinfo.size, ReadError, bufsize)\n",
      "  File \"/home/divyanshu_g25/venv/lib/python3.6/tarfile.py\", line 249, in copyfileobj\n",
      "    buf = src.read(bufsize)\n",
      "  File \"/usr/lib/python3.6/bz2.py\", line 182, in read\n",
      "    return self._buffer.read(size)\n",
      "  File \"/usr/lib/python3.6/_compression.py\", line 68, in readinto\n",
      "    data = self.read(len(byte_view))\n",
      "  File \"/usr/lib/python3.6/_compression.py\", line 99, in read\n",
      "    raise EOFError(\"Compressed file ended before the \"\n",
      "EOFError: Compressed file ended before the end-of-stream marker was reached\n",
      "\n"
     ]
    }
   ],
   "source": [
    "!python src/init.py"
   ]
  },
  {
   "cell_type": "code",
   "execution_count": null,
   "metadata": {},
   "outputs": [],
   "source": [
    "\n",
    "\n",
    "    \n",
    "    "
   ]
  },
  {
   "cell_type": "code",
   "execution_count": null,
   "metadata": {},
   "outputs": [],
   "source": []
  },
  {
   "cell_type": "code",
   "execution_count": null,
   "metadata": {},
   "outputs": [],
   "source": []
  },
  {
   "cell_type": "code",
   "execution_count": null,
   "metadata": {},
   "outputs": [],
   "source": []
  }
 ],
 "metadata": {
  "kernelspec": {
   "display_name": "Python 3",
   "language": "python",
   "name": "python3"
  },
  "language_info": {
   "codemirror_mode": {
    "name": "ipython",
    "version": 3
   },
   "file_extension": ".py",
   "mimetype": "text/x-python",
   "name": "python",
   "nbconvert_exporter": "python",
   "pygments_lexer": "ipython3",
   "version": "3.6.8"
  }
 },
 "nbformat": 4,
 "nbformat_minor": 2
}
