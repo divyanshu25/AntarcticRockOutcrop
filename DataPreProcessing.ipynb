{
 "cells": [
  {
   "cell_type": "code",
   "execution_count": 4,
   "metadata": {},
   "outputs": [],
   "source": [
    "# !pip install requests\n",
    "# !pip install usgs\n",
    "# !pip install geocoder\n",
    "# !sudo apt install libcurl4-openssl-dev libssl-dev\n",
    "# !pip install homura\n",
    "# !pip install termcolor\n",
    "# !pip install -r requirements.txt\n",
    "%matplotlib inline\n",
    "import matplotlib.pyplot as plt\n",
    "import numpy as np"
   ]
  },
  {
   "cell_type": "code",
   "execution_count": null,
   "metadata": {},
   "outputs": [
    {
     "name": "stdout",
     "output_type": "stream",
     "text": [
      "Thread: Thread-1 Untarring: LC82201072015017LGN00\r\n",
      "/home/divyanshu_g25/AntarcticRockOutcrop/data/downloads/LC82201072015017LGN00.tar.bz\r\n",
      "Thread: Thread-2 Untarring: LC82131092013314LGN00\r\n",
      "/home/divyanshu_g25/AntarcticRockOutcrop/data/downloads/LC82131092013314LGN00.tar.bz\r\n",
      "Thread: Thread-3 Untarring: LC82151072014011LGN00\r\n",
      "/home/divyanshu_g25/AntarcticRockOutcrop/data/downloads/LC82151072014011LGN00.tar.bz\r\n",
      "Thread: Thread-4 Untarring: LC82171052013342LGN00\r\n",
      "/home/divyanshu_g25/AntarcticRockOutcrop/data/downloads/LC82171052013342LGN00.tar.bz\r\n"
     ]
    }
   ],
   "source": [
    "!python src/init.py"
   ]
  },
  {
   "cell_type": "code",
   "execution_count": 90,
   "metadata": {},
   "outputs": [],
   "source": [
    "data = np.load(\"data/stacked_chunks/LC82171132013358LGN00/chunk_4.npy\")\n",
    "    "
   ]
  },
  {
   "cell_type": "code",
   "execution_count": 91,
   "metadata": {},
   "outputs": [
    {
     "data": {
      "text/plain": [
       "(512, 512, 10)"
      ]
     },
     "execution_count": 91,
     "metadata": {},
     "output_type": "execute_result"
    }
   ],
   "source": [
    "data.shape"
   ]
  },
  {
   "cell_type": "code",
   "execution_count": 92,
   "metadata": {},
   "outputs": [
    {
     "data": {
      "text/plain": [
       "(512, 512, 3)"
      ]
     },
     "execution_count": 92,
     "metadata": {},
     "output_type": "execute_result"
    }
   ],
   "source": [
    "true_color = data[:,:,2:5]\n",
    "true_color.shape"
   ]
  },
  {
   "cell_type": "code",
   "execution_count": 93,
   "metadata": {},
   "outputs": [
    {
     "name": "stderr",
     "output_type": "stream",
     "text": [
      "Clipping input data to the valid range for imshow with RGB data ([0..1] for floats or [0..255] for integers).\n"
     ]
    },
    {
     "data": {
      "text/plain": [
       "<matplotlib.image.AxesImage at 0x7f1b848986a0>"
      ]
     },
     "execution_count": 93,
     "metadata": {},
     "output_type": "execute_result"
    },
    {
     "data": {
      "image/png": "[encoded data removed]",
      "text/plain": [
       "<Figure size 432x288 with 1 Axes>"
      ]
     },
     "metadata": {
      "needs_background": "light"
     },
     "output_type": "display_data"
    }
   ],
   "source": [
    "plt.imshow(true_color)"
   ]
  },
  {
   "cell_type": "code",
   "execution_count": null,
   "metadata": {},
   "outputs": [],
   "source": []
  }
 ],
 "metadata": {
  "kernelspec": {
   "display_name": "Python 3",
   "language": "python",
   "name": "python3"
  },
  "language_info": {
   "codemirror_mode": {
    "name": "ipython",
    "version": 3
   },
   "file_extension": ".py",
   "mimetype": "text/x-python",
   "name": "python",
   "nbconvert_exporter": "python",
   "pygments_lexer": "ipython3",
   "version": "3.6.8"
  }
 },
 "nbformat": 4,
 "nbformat_minor": 2
}
